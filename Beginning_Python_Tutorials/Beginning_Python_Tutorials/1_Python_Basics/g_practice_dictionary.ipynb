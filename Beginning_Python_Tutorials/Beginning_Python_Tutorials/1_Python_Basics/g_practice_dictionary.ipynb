{
 "cells": [
  {
   "cell_type": "markdown",
   "metadata": {},
   "source": [
    "# Dictionary creation/accessing/editing practice"
   ]
  },
  {
   "cell_type": "markdown",
   "metadata": {},
   "source": [
    "## Dictionary as data storage\n",
    "\n",
    "TODO: Use a dictionary to store multiple values by name\n",
    "\n",
    "One common use for dictionaries is to store related data; in this example, suppose you have a function that does a lot of fancy statistical calculations on a numpy array. Rather than return each of those numbers in a list or tuple, put them in a dictionary with a reasonable name. That way, you don't have to try to figure out which element in the list belongs to which statistical element."
   ]
  },
  {
   "cell_type": "code",
   "execution_count": 1,
   "metadata": {},
   "outputs": [],
   "source": [
    "import numpy as np"
   ]
  },
  {
   "cell_type": "code",
   "execution_count": 2,
   "metadata": {},
   "outputs": [],
   "source": [
    "def make_stats_dict(in_list):\n",
    "    \"\"\" Calculate some statistics on the list and store the values in a dictionary\n",
    "    @param in_list - a numpy array\n",
    "    @return dict_stats - a dictionary with various statistical values stored in it\"\"\"\n",
    "    my_dict = {}\n",
    "\n",
    "    # Do some stats calculations, store in dictionary\n",
    "    my_dict['min'] = np.min(in_list)\n",
    "    my_dict['max'] = np.max(in_list)\n",
    "    my_dict['mean'] = np.mean(in_list)\n",
    "    my_dict['std'] = np.std(in_list)\n",
    "    \n",
    "    return my_dict"
   ]
  },
  {
   "cell_type": "code",
   "execution_count": 3,
   "metadata": {},
   "outputs": [],
   "source": [
    "# Now use the function\n",
    "my_array_of_random_numbers = np.random.uniform(-5, 500, 20)\n",
    "my_dict = make_stats_dict(my_array_of_random_numbers)"
   ]
  },
  {
   "cell_type": "code",
   "execution_count": 4,
   "metadata": {},
   "outputs": [
    {
     "name": "stdout",
     "output_type": "stream",
     "text": [
      "min: 9.224471652107042, max: 408.13932061386487, mean: 240.53731001115366, std: 131.23774172491602\n"
     ]
    }
   ],
   "source": [
    "# Print out the values calculated in make_stats (use a for loop to print out all of them, don't hard-wire the answers)\n",
    "result_str = ''\n",
    "for stat_index, stat in enumerate(my_dict):\n",
    "    result_str += f'{stat}: {my_dict[stat]}'\n",
    "\n",
    "    if stat_index < len(my_dict) - 1:\n",
    "        result_str += ', '\n",
    "\n",
    "print(result_str)"
   ]
  },
  {
   "cell_type": "markdown",
   "metadata": {},
   "source": [
    "## Dictionary to count number of characters\n",
    "\n",
    "TODO: Create a single dictionary that has in it each letter and the number of times that letter appears in any of the strings\n",
    "\n",
    "TODO tweaks\n",
    " - list of dictionaries\n",
    " - see if C is in any of the dictionaries"
   ]
  },
  {
   "cell_type": "code",
   "execution_count": 5,
   "metadata": {},
   "outputs": [],
   "source": [
    "a_list_of_strings = [\"Hello world\", \"Cat got your tongue?\", \"The merry fox jumped over the I forget\"]\n",
    "my_count_char_dict = {}\n",
    "for s in a_list_of_strings:\n",
    "    for c in s:\n",
    "        if not c in my_count_char_dict:\n",
    "            my_count_char_dict[c] = 1\n",
    "        else:\n",
    "            my_count_char_dict[c] += 1"
   ]
  },
  {
   "cell_type": "code",
   "execution_count": 6,
   "metadata": {},
   "outputs": [
    {
     "name": "stdout",
     "output_type": "stream",
     "text": [
      "{'H': 1, 'e': 8, 'l': 3, 'o': 8, ' ': 11, 'w': 1, 'r': 6, 'd': 2, 'C': 1, 'a': 1, 't': 5, 'g': 3, 'y': 2, 'u': 3, 'n': 1, '?': 1, 'T': 1, 'h': 2, 'm': 2, 'f': 2, 'x': 1, 'j': 1, 'p': 1, 'v': 1, 'I': 1}\n"
     ]
    }
   ],
   "source": [
    "print(my_count_char_dict)"
   ]
  },
  {
   "cell_type": "code",
   "execution_count": 7,
   "metadata": {},
   "outputs": [],
   "source": [
    "# Tweak number 1: Change the above code to create one dictionary for each string\n",
    "my_count_char_list_of_dict = []\n",
    "for s in a_list_of_strings:\n",
    "    word_char_dict = {}\n",
    "    \n",
    "    for c in s:\n",
    "        if not c in word_char_dict:\n",
    "            word_char_dict[c] = 1\n",
    "        else:\n",
    "            word_char_dict[c] += 1\n",
    "    \n",
    "    my_count_char_list_of_dict.append(word_char_dict)"
   ]
  },
  {
   "cell_type": "code",
   "execution_count": 8,
   "metadata": {},
   "outputs": [
    {
     "name": "stdout",
     "output_type": "stream",
     "text": [
      "Found C in the \"Cat got your tongue?\" string.\n"
     ]
    }
   ],
   "source": [
    "# Tweak number 2: Use the dictionaries to find which string has the letter \"C\" in it\n",
    "for index, d in enumerate(my_count_char_list_of_dict):\n",
    "    if 'C' in d:\n",
    "        print(f'Found C in the \"{a_list_of_strings[index]}\" string.')"
   ]
  },
  {
   "cell_type": "markdown",
   "metadata": {},
   "source": [
    "# Answers"
   ]
  },
  {
   "cell_type": "markdown",
   "metadata": {},
   "source": [
    "## Example 1"
   ]
  },
  {
   "cell_type": "code",
   "execution_count": null,
   "metadata": {},
   "outputs": [],
   "source": [
    "def make_stats_dict(in_list):\n",
    "    \"\"\" Calculate some statistics on the list and store the values in a dictionary\n",
    "    @param in_list - a numpy array\n",
    "    @return dict_stats - a dictionary with various statistical values stored in it\"\"\"\n",
    "    my_dict = {}\n",
    "    my_dict[\"Sum\"] = np.sum(in_list)\n",
    "    my_dict[\"Min\"] = np.min(in_list)\n",
    "    my_dict[\"Mean\"] = np.mean(in_list)\n",
    "\n",
    "    # Do some stats calculations, store in dictionary\n",
    "    return my_dict"
   ]
  },
  {
   "cell_type": "code",
   "execution_count": null,
   "metadata": {},
   "outputs": [],
   "source": [
    "# Now use the function\n",
    "my_array_of_random_numbers = np.random.uniform(-5, 500, 20)\n",
    "my_dict = make_stats_dict(my_array_of_random_numbers)\n",
    "for k, v in my_dict.items():\n",
    "    print(f\"Stat type {k} has value {v}\")"
   ]
  },
  {
   "cell_type": "markdown",
   "metadata": {},
   "source": [
    "## Example 2"
   ]
  },
  {
   "cell_type": "code",
   "execution_count": null,
   "metadata": {},
   "outputs": [],
   "source": [
    "a_list_of_strings = [\"Hello world\", \"Cat got your tongue?\", \"The merry fox jumped over the I forget\"]\n",
    "my_count_char_dict = {}\n",
    "for s in a_list_of_strings:\n",
    "    for c in s:\n",
    "        # Add character to dictionary, or increment count\n",
    "        if c in my_count_char_dict:\n",
    "            my_count_char_dict[c] += 1\n",
    "        else:\n",
    "            my_count_char_dict[c] = 1\n",
    "print(\"Character counts:\")\n",
    "print(my_count_char_dict)"
   ]
  },
  {
   "cell_type": "markdown",
   "metadata": {},
   "source": [
    "### Tweak 1"
   ]
  },
  {
   "cell_type": "code",
   "execution_count": null,
   "metadata": {},
   "outputs": [],
   "source": [
    "my_count_char_list_of_dict = []\n",
    "for s in a_list_of_strings:\n",
    "    # Make a new dictionary\n",
    "    my_str_dict = {}\n",
    "    for c in s:\n",
    "        # Add character to dictionary, or increment count\n",
    "        if c in my_str_dict:\n",
    "            my_str_dict[c] += 1\n",
    "        else:\n",
    "            my_str_dict[c] = 1\n",
    "    # Add dictionary to list\n",
    "    my_count_char_list_of_dict.append(my_str_dict)\n",
    "\n",
    "print(\"Character counts by string:\")\n",
    "print(my_count_char_list_of_dict)"
   ]
  },
  {
   "cell_type": "markdown",
   "metadata": {},
   "source": [
    "## Tweak 2"
   ]
  },
  {
   "cell_type": "code",
   "execution_count": null,
   "metadata": {},
   "outputs": [],
   "source": [
    "for i, d in enumerate(my_count_char_list_of_dict):\n",
    "    # See if C in dictionary\n",
    "    if \"C\" in d:\n",
    "        print(f\"Found C in string {a_list_of_strings[i]}\")"
   ]
  }
 ],
 "metadata": {
  "kernelspec": {
   "display_name": "Python 3",
   "language": "python",
   "name": "python3"
  },
  "language_info": {
   "codemirror_mode": {
    "name": "ipython",
    "version": 3
   },
   "file_extension": ".py",
   "mimetype": "text/x-python",
   "name": "python",
   "nbconvert_exporter": "python",
   "pygments_lexer": "ipython3",
   "version": "3.10.11"
  }
 },
 "nbformat": 4,
 "nbformat_minor": 2
}
