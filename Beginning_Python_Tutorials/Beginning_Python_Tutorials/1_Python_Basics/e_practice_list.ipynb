{
 "cells": [
  {
   "cell_type": "markdown",
   "metadata": {},
   "source": [
    "# Practice: List creation/accessing/editing\n",
    "\n",
    "Practice: slicing, accessing, creating new list from old, enumerate (zip, optional)\n",
    "\n",
    "Two versions (and an optional third) of the first problem - calculate a running average."
   ]
  },
  {
   "cell_type": "markdown",
   "metadata": {},
   "source": [
    "## Practice: Version 1: Using an if statement\n",
    "\n",
    "TODO: Create a new list that is the running average of three numbers\n",
    "\n",
    "I.e., the first element will be 0.1 + 0.2 + 0.8, the last element will be 0.9 + 1.0 + 1.2\n",
    " - total: 4 elements, [0.3666666666666667, 0.6333333333333333, 0.9, 1.0333333333333332]\n",
    "\n",
    "NOTE: You should do this with numpy/scipy in \"real life\" - this is just **list** practice\n",
    "\n",
    "Version 1: Use a **for** loop with an **if** statement to skip the first/last elements\n",
    " - Hint: you'll need enumerate to get the index\n",
    "\n",
    "Modify the **for** loop to\n",
    " - use enumerate to produce an index 0, 1, etc\n",
    " - Add an if statement to see if this is the first or last element\n",
    "   - do NOT use i == 4  or i < 4\n",
    "   - Compare to the length of the list so it will still work even if we add an element to the list\n",
    " - sum the previous, current, and next elements\n",
    "\n",
    "HINT: **lhs < i < rhs**  works in python (yay!)"
   ]
  },
  {
   "cell_type": "code",
   "execution_count": 1,
   "metadata": {},
   "outputs": [
    {
     "name": "stdout",
     "output_type": "stream",
     "text": [
      "Averaged list: [0.3666666666666667, 0.6333333333333333, 0.9, 1.0333333333333332]\n"
     ]
    }
   ],
   "source": [
    "# Once this works, try adding in more numbers to my_list_numbers to check that it still works\n",
    "my_list_numbers = [0.1, 0.2, 0.8, 0.9, 1.0, 1.2]\n",
    "\n",
    "my_list_averaged = []\n",
    "for number_index in range(len(my_list_numbers)):\n",
    "    if 0 < number_index < len(my_list_numbers) - 1:\n",
    "        my_list_averaged.append(sum(my_list_numbers[number_index-1:number_index+2])/3)\n",
    "\n",
    "print(f\"Averaged list: {my_list_averaged}\")"
   ]
  },
  {
   "cell_type": "markdown",
   "metadata": {},
   "source": [
    "## Practice: Version 2: Using slicing\n",
    "TODO: Change the above so that, instead of having an **if** statement to check for first and last elements, you use slicing to iterate only over the 2nd-n-1 elements\n",
    "\n",
    "NOTE: Fixing the indexing of enumerate - you can use an optional parameter to enumerate to start at 1 instead of zero   eg. **enumerate(my_list_numbers, start=1)**\n",
    "\n",
    "OR just make sure you adjust your i's and i+1 i-1 appropriately"
   ]
  },
  {
   "cell_type": "code",
   "execution_count": 2,
   "metadata": {},
   "outputs": [
    {
     "name": "stdout",
     "output_type": "stream",
     "text": [
      "Averaged list: [0.3666666666666667, 0.6333333333333333, 0.9, 1.0333333333333332]\n"
     ]
    }
   ],
   "source": [
    "# Once this works, try adding in more numbers to my_list_numbers to check that it still works\n",
    "my_list_numbers = [0.1, 0.2, 0.8, 0.9, 1.0, 1.2]\n",
    "\n",
    "my_list_averaged = []\n",
    "for number_index in range(1, len(my_list_numbers) - 1):\n",
    "    my_list_averaged.append(sum(my_list_numbers[number_index-1:number_index+2])/3)\n",
    "\n",
    "print(f\"Averaged list: {my_list_averaged}\")"
   ]
  },
  {
   "cell_type": "markdown",
   "metadata": {},
   "source": [
    "## Practice: Version 3 (optional): Use slicing AND zip (no if statement, no enumerate!)\n",
    "TODO Do this with a **zip** and slicing instead of **enumerate**. Should look like\n",
    "\n",
    "**prev, cur, next = zip(l[stuff], l[stuff], l[stuff])** where stuff pulls out the\n",
    " - 0..n-3 elements\n",
    " - 1..n-2 \n",
    " - 2..n-1"
   ]
  },
  {
   "cell_type": "code",
   "execution_count": 3,
   "metadata": {},
   "outputs": [
    {
     "name": "stdout",
     "output_type": "stream",
     "text": [
      "Averaged list: [0.3666666666666667, 0.6333333333333333, 0.9, 1.0333333333333332]\n"
     ]
    }
   ],
   "source": [
    "# Once this works, try adding in more numbers to my_list_numbers to check that it still works\n",
    "my_list_numbers = [0.1, 0.2, 0.8, 0.9, 1.0, 1.2]\n",
    "\n",
    "my_list_averaged = []\n",
    "\n",
    "for number in zip(my_list_numbers[0:-2], my_list_numbers[1:-1], my_list_numbers[2:]):\n",
    "    my_list_averaged.append(sum(number)/3)\n",
    "\n",
    "print(f\"Averaged list: {my_list_averaged}\")"
   ]
  },
  {
   "cell_type": "markdown",
   "metadata": {},
   "source": [
    "# Practice: List of lists, sorting\n",
    "\n",
    "TODO: Sort two lists by one (similar to doing a range sort in Excel)\n",
    "\n",
    "Sorting one list is really easy - but what about sorting two lists by one? (Think selecting multiple rows of a spread sheet and sorting by the first row.)\n",
    "\n",
    "Sort the values row by the header row:\n",
    "\n",
    "What the sorted my_values_list should look like: [0.3, 5.2, 3.2, 3.5, 6.2, 1.2]\n",
    "\n",
    "As always, we'll do this in steps. "
   ]
  },
  {
   "cell_type": "code",
   "execution_count": 4,
   "metadata": {},
   "outputs": [],
   "source": [
    "# Think of this as the header row of your csv file\n",
    "my_header_list = [\"a\", \"e\", \"b\", \"d\", \"c\", \"c\"]\n",
    "# Think of this as the second row of your csv file\n",
    "my_values_list = [0.3, 1.2, 5.2, 6.2, 3.2, 3.5]"
   ]
  },
  {
   "cell_type": "code",
   "execution_count": 5,
   "metadata": {},
   "outputs": [
    {
     "name": "stdout",
     "output_type": "stream",
     "text": [
      "Sorted: ['a', 'b', 'c', 'c', 'd', 'e']\n"
     ]
    }
   ],
   "source": [
    "# First try - sort my_header_list to be in alphabetical order\n",
    "my_header_list_sorted = sorted(my_header_list)\n",
    "\n",
    "#Sorted returns a sorted copy :).\n",
    "print(f\"Sorted: {my_header_list_sorted}\")"
   ]
  },
  {
   "cell_type": "markdown",
   "metadata": {},
   "source": [
    "Problem - how do you sort the *second* list by the first list?\n",
    "\n",
    "Python-esq answer: Make a new list that has both lists in it using zip, sort the result, then extract the second list back out.\n",
    "\n",
    "For this, google the answer and see if you can make sense of the results using what you know of lists\n",
    "\n",
    " - Step 1: Just get to the sorted list of lists\n",
    " - Step 2: Extract out the second sorted list from the zipped together, sorted list"
   ]
  },
  {
   "cell_type": "code",
   "execution_count": 6,
   "metadata": {},
   "outputs": [
    {
     "name": "stdout",
     "output_type": "stream",
     "text": [
      "Sorted: [0.3, 5.2, 3.2, 3.5, 6.2, 1.2]\n"
     ]
    }
   ],
   "source": [
    "my_header_list_sorted = sorted(zip(my_header_list, my_values_list))\n",
    "my_header_list_sorted = [pair[1] for pair in my_header_list_sorted]\n",
    "print(f\"Sorted: {my_header_list_sorted}\")"
   ]
  },
  {
   "cell_type": "code",
   "execution_count": null,
   "metadata": {},
   "outputs": [],
   "source": [
    "# A CAUTIONARY NOTE\n",
    "# NOTE: Do NOT do something like this - it SEEMS like it will work - and it will - but only if there are no\n",
    "#   duplicate elements... Also, it's really inefficient.\n",
    "#      Count how many elements there are in the my_sort_second_list_wrong - why are there so many?\n",
    "my_sort_second_list_wrong = []\n",
    "for h in sorted(my_header_list):\n",
    "    for i, orig_h in enumerate(my_header_list):\n",
    "        if h is orig_h:\n",
    "            my_sort_second_list_wrong.append(my_values_list[i])\n",
    "print(f\"Wrong answer: {my_sort_second_list_wrong}\")\n",
    "# END A CAUTIONARY NOTE"
   ]
  },
  {
   "cell_type": "markdown",
   "metadata": {},
   "source": [
    "# Answers: Running average"
   ]
  },
  {
   "cell_type": "code",
   "execution_count": null,
   "metadata": {},
   "outputs": [],
   "source": [
    "print(\"#\" * 20 + \" ANSWERS \" + \"#\" * 20)\n",
    "print(\"Version 1\")\n",
    "my_list_averaged = []\n",
    "for i, v in enumerate(my_list_numbers):\n",
    "    if 0 < i < len(my_list_numbers) - 1:  # Remember, indexing is 0..len - 1\n",
    "        # Remember, v is my_list_numbers[i]\n",
    "        val = (my_list_numbers[i-1] + v + my_list_numbers[i+1]) / 3\n",
    "        my_list_averaged.append(val)\n",
    "print(my_list_averaged)"
   ]
  },
  {
   "cell_type": "code",
   "execution_count": null,
   "metadata": {},
   "outputs": [],
   "source": [
    "print(\"Version 2\")\n",
    "my_list_averaged = []\n",
    "for i, v in enumerate(my_list_numbers[1:-1], start=1):\n",
    "    # You could also do enumerate(list) and then do [i] and [i+2]\n",
    "    val = (my_list_numbers[i-1] + v + my_list_numbers[i+1]) / 3\n",
    "    my_list_averaged.append(val)\n",
    "print(my_list_averaged)"
   ]
  },
  {
   "cell_type": "markdown",
   "metadata": {},
   "source": [
    "# Answers: Sort second list by first"
   ]
  },
  {
   "cell_type": "code",
   "execution_count": null,
   "metadata": {},
   "outputs": [],
   "source": [
    "# Sorting returns a NEW list that is sorted\n",
    "my_header_list_sorted.sort()   # Sorts the list in-place\n",
    "print(f\"Sorted: {my_header_list_sorted}\")"
   ]
  },
  {
   "cell_type": "code",
   "execution_count": null,
   "metadata": {},
   "outputs": [],
   "source": [
    "# Step 1: Zip the two UNSORTED lists together, then sort\n",
    "my_combined_lists = zip(my_header_list, my_values_list)\n",
    "# Step 2: Sort - this will by default, sort by the first element then by the second\n",
    "my_combined_lists_sorted = sorted(zip(my_header_list, my_values_list))\n",
    "print(f\"Sorted iterable {my_combined_lists_sorted}\")\n",
    "\n",
    "# Step 3: Extract out the second element of the sorted list from the list of lists\n",
    "my_value_sorted = [hv[1] for hv in my_combined_lists_sorted]\n",
    "print(f\"Second list, sorted by first: {my_value_sorted}\")"
   ]
  }
 ],
 "metadata": {
  "kernelspec": {
   "display_name": "Python 3",
   "language": "python",
   "name": "python3"
  },
  "language_info": {
   "codemirror_mode": {
    "name": "ipython",
    "version": 3
   },
   "file_extension": ".py",
   "mimetype": "text/x-python",
   "name": "python",
   "nbconvert_exporter": "python",
   "pygments_lexer": "ipython3",
   "version": "3.10.11"
  }
 },
 "nbformat": 4,
 "nbformat_minor": 2
}
