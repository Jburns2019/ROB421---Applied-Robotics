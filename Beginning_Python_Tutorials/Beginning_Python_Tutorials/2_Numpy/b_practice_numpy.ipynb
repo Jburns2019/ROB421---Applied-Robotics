{
 "cells": [
  {
   "cell_type": "markdown",
   "metadata": {},
   "source": [
    "# Instructions\n",
    "\n",
    "This is a handful of low-level numpy tasks that are, well, silly, but will give you practice with creating, editing and accessing numpy arrays. \n",
    "\n",
    "Try things. You really can't \"break\" Jupyter Notebooks. "
   ]
  },
  {
   "cell_type": "code",
   "execution_count": 1,
   "metadata": {},
   "outputs": [],
   "source": [
    "# Anything numpy-ish will start with np.\n",
    "import numpy as np"
   ]
  },
  {
   "cell_type": "markdown",
   "metadata": {},
   "source": [
    "# Creating numpy arrays"
   ]
  },
  {
   "cell_type": "code",
   "execution_count": 2,
   "metadata": {},
   "outputs": [
    {
     "name": "stdout",
     "output_type": "stream",
     "text": [
      "[0.         0.11111111 0.22222222 0.33333333 0.44444444 0.55555556\n",
      " 0.66666667 0.77777778 0.88888889 1.        ]\n"
     ]
    }
   ],
   "source": [
    "# Create a 1x10 array of numbers that starts at 0, goes to 1, and is evenly spaced (linspace)\n",
    "def get_lin_space(n: int):\n",
    "    return np.linspace(0, 1, n)\n",
    "\n",
    "my_linspace_array = get_lin_space(10)\n",
    "print(my_linspace_array)"
   ]
  },
  {
   "cell_type": "markdown",
   "metadata": {},
   "source": [
    "## TODO Create a new array from the previous one by multiplying by 2 and adding 1 (NO for loops allowed)"
   ]
  },
  {
   "cell_type": "code",
   "execution_count": 3,
   "metadata": {},
   "outputs": [
    {
     "name": "stdout",
     "output_type": "stream",
     "text": [
      "[1.         1.22222222 1.44444444 1.66666667 1.88888889 2.11111111\n",
      " 2.33333333 2.55555556 2.77777778 3.        ]\n"
     ]
    }
   ],
   "source": [
    "def get_mod_array():\n",
    "    return 2*my_linspace_array+1\n",
    "\n",
    "my_modified_array = get_mod_array()\n",
    "print(my_modified_array)"
   ]
  },
  {
   "cell_type": "markdown",
   "metadata": {},
   "source": [
    "## 2D matrix\n",
    "TODO: Create a 2x10 numpy array with the two arrays as the first (my_linspace_array) and second (my_modified_array) row\n",
    "\n",
    "There are two ways to do this; create a blank array using zeros and assign the two rows to those arrays OR use one of numpy's functions to concatenate array methods (google numpy concatenate array and look both at concatenate and look for a method that is specifically designed to stack two arrays vertically...)\n",
    "\n",
    "NOTE: Make sure this works even if you change the number of elements in the linspace array...\n",
    "\n",
    "Common error 1 - forgetting the []\n",
    " -  my_new_matrix_from_zeros = np.zeros(2, my_linspace_array.size)\n",
    " \n",
    "Common error 2 - forgetting the :\n"
   ]
  },
  {
   "cell_type": "code",
   "execution_count": 4,
   "metadata": {},
   "outputs": [
    {
     "name": "stdout",
     "output_type": "stream",
     "text": [
      "My matrix shape: (2, 10), should be (2, size of linspace array)\n",
      "[[0.         0.11111111 0.22222222 0.33333333 0.44444444 0.55555556\n",
      "  0.66666667 0.77777778 0.88888889 1.        ]\n",
      " [1.         1.22222222 1.44444444 1.66666667 1.88888889 2.11111111\n",
      "  2.33333333 2.55555556 2.77777778 3.        ]]\n"
     ]
    }
   ],
   "source": [
    "def get_new_mat():\n",
    "    return np.stack([my_linspace_array, my_modified_array])\n",
    "\n",
    "my_new_matrix = get_new_mat()\n",
    "\n",
    "print(f\"My matrix shape: {my_new_matrix.shape}, should be (2, size of linspace array)\")\n",
    "print(my_new_matrix)"
   ]
  },
  {
   "cell_type": "markdown",
   "metadata": {},
   "source": [
    "## 2D matrix part 2\n",
    "\n",
    "TODO Now do the same thing again, but add padding by making the first column -1 and the last column 2. I.e, the new numpy array should be 2 x (size of linspace array + 2)\n",
    "\n",
    "my_new_padded_matrix = None\n",
    "\n",
    "print(f\"My matrix shape: {my_new_padded_matrix.shape}, should be (2, size of linspace array + 2)\")\n",
    "print(f\"First column is: {my_new_padded_matrix[:, 0]}, should be [-1. -1.]\")\n",
    "print(f\"Last column is: {my_new_padded_matrix[:, -1]}, should be [2. 2.]\")"
   ]
  },
  {
   "cell_type": "code",
   "execution_count": 5,
   "metadata": {},
   "outputs": [
    {
     "name": "stdout",
     "output_type": "stream",
     "text": [
      "My matrix shape: (2, 12), should be (2, size of linspace array + 2)\n",
      "First column is: [-1. -1.], should be [-1. -1.]\n",
      "Last column is: [2. 2.], should be [2. 2.]\n"
     ]
    }
   ],
   "source": [
    "def get_padded_mat():\n",
    "    my_new_padded_matrix = np.zeros([2, my_linspace_array.size+2])\n",
    "    my_new_padded_matrix[0, 1:-1] = my_linspace_array\n",
    "    my_new_padded_matrix[1, 1:-1] = my_modified_array\n",
    "\n",
    "    my_new_padded_matrix[:, 0] = -1\n",
    "    my_new_padded_matrix[:, -1] = 2\n",
    "\n",
    "    return my_new_padded_matrix\n",
    "\n",
    "my_new_padded_matrix = get_padded_mat()\n",
    "\n",
    "print(f\"My matrix shape: {my_new_padded_matrix.shape}, should be (2, size of linspace array + 2)\")\n",
    "print(f\"First column is: {my_new_padded_matrix[:, 0]}, should be [-1. -1.]\")\n",
    "print(f\"Last column is: {my_new_padded_matrix[:, -1]}, should be [2. 2.]\")"
   ]
  },
  {
   "cell_type": "markdown",
   "metadata": {},
   "source": [
    "## 2D matrix part 3\n",
    "TODO Now go back and make the original linspace array size 20 and see if it all still works. Note that you will need to re-execute *all* of the cells!"
   ]
  },
  {
   "cell_type": "code",
   "execution_count": 6,
   "metadata": {},
   "outputs": [
    {
     "name": "stdout",
     "output_type": "stream",
     "text": [
      "Size of my_new_matrix should be 2, 20, is (2, 20)\n"
     ]
    }
   ],
   "source": [
    "my_linspace_array = get_lin_space(20)\n",
    "my_modified_array = get_mod_array()\n",
    "my_new_matrix = get_new_mat()\n",
    "my_new_padded_matrix = get_padded_mat()\n",
    "\n",
    "print(f\"Size of my_new_matrix should be 2, 20, is {my_new_matrix.shape}\")"
   ]
  },
  {
   "cell_type": "markdown",
   "metadata": {},
   "source": [
    "# min, max, etc on numpy arrays\n",
    "\n",
    "Calculate the mean, min, and max of the linspace array\n",
    "\n",
    "Answers are in the current print out\n",
    "\n",
    "\n"
   ]
  },
  {
   "cell_type": "code",
   "execution_count": 7,
   "metadata": {},
   "outputs": [
    {
     "name": "stdout",
     "output_type": "stream",
     "text": [
      "From array: Mean: 0.5, min: 0.0, max: 1.0\n"
     ]
    }
   ],
   "source": [
    "print(f\"From array: Mean: {0.5}, min: {0.0}, max: {1.0}\")"
   ]
  },
  {
   "cell_type": "code",
   "execution_count": 8,
   "metadata": {},
   "outputs": [
    {
     "name": "stdout",
     "output_type": "stream",
     "text": [
      "From array: Mean: 0.5, min: 0.0, max: 1.0\n"
     ]
    }
   ],
   "source": [
    "# Code question 2\n",
    "print(f\"From array: Mean: {np.mean(my_linspace_array)}, min: {np.min(my_linspace_array)}, max: {np.max(my_linspace_array)}\")"
   ]
  },
  {
   "cell_type": "markdown",
   "metadata": {},
   "source": [
    "## Calculate the mean of each row of the matrix (without padding)\n",
    "\n",
    "Make sure this works no matter how many rows the matrix has...\n",
    "\n",
    "There are two ways to do this; the first is to manually loop over the rows, calculate the mean, and assign it to the my_means array.\n",
    "\n",
    "The second is to use np.mean parameters to tell numpy to calculate the mu for each row (should return a num rows x 1 array)"
   ]
  },
  {
   "cell_type": "code",
   "execution_count": 9,
   "metadata": {},
   "outputs": [
    {
     "name": "stdout",
     "output_type": "stream",
     "text": [
      "My means: [0.5 2. ], should be a 2x1 array, with 0.5, 2 in it (10 elements in linspace array)\n"
     ]
    }
   ],
   "source": [
    "my_means = np.mean(my_new_matrix, axis=1)\n",
    "print(f\"My means: {my_means}, should be a 2x1 array, with 0.5, 2 in it (10 elements in linspace array)\")"
   ]
  },
  {
   "cell_type": "markdown",
   "metadata": {},
   "source": [
    "# Boolean indexing on arrays\n",
    "TODO:  In the padded matrix set all of the values that are bigger than 1 to be -1\n",
    "\n",
    "Check: The max should now be 1"
   ]
  },
  {
   "cell_type": "code",
   "execution_count": 10,
   "metadata": {},
   "outputs": [
    {
     "name": "stdout",
     "output_type": "stream",
     "text": [
      "Count: 23, should be 13 if linspace array size 10, 23 if linspace array size is 20\n"
     ]
    }
   ],
   "source": [
    "my_clipped_matrix = np.where(my_new_padded_matrix <= 1, my_new_padded_matrix, -1)\n",
    "\n",
    "#  Can use np.sum OR np.count_nonzero - the latter is somewhat faster\n",
    "count_minus_1 = np.sum(np.where(my_clipped_matrix == -1, 1, 0))\n",
    "\n",
    "print(f\"Count: {count_minus_1}, should be 13 if linspace array size 10, 23 if linspace array size is 20\")"
   ]
  },
  {
   "cell_type": "markdown",
   "metadata": {},
   "source": [
    "## Count\n",
    "\n",
    "TODO Now count how many are between 0.1 and 0.5 (Note: () & () is how to combine two conditionals)\n",
    "\n",
    "If you get the following error:\n",
    "  TypeError: ufunc 'bitwise_and' not supported for the input types, and the inputs could not be safely coerced to any supported types according to the casting rule ''safe''\n",
    "  \n",
    " See the solutions below - you need parenthesis around the individual conditionals"
   ]
  },
  {
   "cell_type": "code",
   "execution_count": 11,
   "metadata": {},
   "outputs": [
    {
     "name": "stdout",
     "output_type": "stream",
     "text": [
      "Count between: 8, should be 4 if linspace array size 10, 8 if linspace array size is 20\n"
     ]
    }
   ],
   "source": [
    "count_between = np.sum(np.where((.1 < my_clipped_matrix) & (my_clipped_matrix < .5), 1, 0))\n",
    "print(f\"Count between: {count_between}, should be 4 if linspace array size 10, 8 if linspace array size is 20\")"
   ]
  },
  {
   "cell_type": "markdown",
   "metadata": {},
   "source": [
    "# Answers\n"
   ]
  },
  {
   "cell_type": "markdown",
   "metadata": {},
   "source": [
    "## Linspace arrays"
   ]
  },
  {
   "cell_type": "code",
   "execution_count": null,
   "metadata": {},
   "outputs": [],
   "source": [
    "# Create a 1x10 array of numbers that starts at 0, goes to 1, and is evenly spaced (linspace)\n",
    "\n",
    "# You don't have to do the num=20 - it's just a good idea to make sure you don't accidentally set a bounds to 20 instead\n",
    "#   of the number of elements\n",
    "my_linspace_array = np.linspace(0, 1, num=20)\n",
    "\n",
    "# Create a new array from the previous one by multiplying by 2 and adding 1\n",
    "#   Look, ma, no for loops! You should NOT use a for loop here\n",
    "my_new_array = my_linspace_array * 2.0 + 1.0"
   ]
  },
  {
   "cell_type": "markdown",
   "metadata": {},
   "source": [
    "## 2D matrix\n",
    "Create a 2x10 numpy array with the two arrays as the first and second row"
   ]
  },
  {
   "cell_type": "code",
   "execution_count": null,
   "metadata": {},
   "outputs": [],
   "source": [
    "# Using zeros\n",
    "my_new_matrix_from_zeros = np.zeros([2, my_linspace_array.size])\n",
    "# This works, although really it shouldn't:\n",
    "my_new_matrix_from_zeros[0] = my_linspace_array\n",
    "my_new_matrix_from_zeros[1] = my_new_array\n",
    "# This is cleaner/clearer\n",
    "my_new_matrix_from_zeros[0, :] = my_linspace_array\n",
    "my_new_matrix_from_zeros[1, :] = my_new_array\n",
    "\n",
    "# Creating a matrix from concatenate\n",
    "my_new_matrix_from_concat = np.vstack([my_linspace_array, my_new_array])\n",
    "\n",
    "print(f\"My matrix shape: {my_new_matrix_from_zeros.shape}, should be (2, size of linspace array)\")\n"
   ]
  },
  {
   "cell_type": "markdown",
   "metadata": {},
   "source": [
    "## 2D matrix with padding"
   ]
  },
  {
   "cell_type": "code",
   "execution_count": null,
   "metadata": {},
   "outputs": [],
   "source": [
    "my_new_padded_matrix_from_zeros = np.zeros([2, 2 + my_linspace_array.size])\n",
    "# This works, although really it shouldn't:\n",
    "my_new_padded_matrix_from_zeros[0, 1:-1] = my_linspace_array\n",
    "my_new_padded_matrix_from_zeros[1, 1:-1] = my_new_array\n",
    "\n",
    "my_new_padded_matrix_from_zeros[:, 0] = -1\n",
    "my_new_padded_matrix_from_zeros[:, -1] = 2\n",
    "\n",
    "print(f\"My matrix shape: {my_new_padded_matrix_from_zeros.shape}, should be (2, size of linspace array + 2)\")\n",
    "print(f\"First column is: {my_new_padded_matrix_from_zeros[:, 0]}, should be [-1. -1.]\")\n",
    "print(f\"Last column is: {my_new_padded_matrix_from_zeros[:, -1]}, should be [2. 2.]\")"
   ]
  },
  {
   "cell_type": "markdown",
   "metadata": {},
   "source": [
    "## min, max, etc on numpy arrays"
   ]
  },
  {
   "cell_type": "code",
   "execution_count": null,
   "metadata": {},
   "outputs": [],
   "source": [
    "# Calculate the mean, min, and max of the linspace array\n",
    "#  Answers are in the current print out\n",
    "print(f\"Answers: Mean: {np.mean(my_linspace_array)}, min: {np.min(my_linspace_array)}, max: {np.max(my_linspace_array)}\")\n",
    "# Change to printing out the answers using numpy mu, min, max\n",
    "print(f\"From array: Mean: {0.5}, min: {0.0}, max: {1.0}\")\n",
    "\n",
    "# Version 1 - make the array to put the values in first - note .shape[0] returns the number of rows\n",
    "my_means = np.zeros([my_new_matrix_from_zeros.shape[0], 1])\n",
    "for r in range(0, my_new_matrix_from_zeros.shape[0]):\n",
    "    my_means[r] = np.mean(my_new_matrix_from_zeros[r, :])\n",
    "print(f\"My means v1: {my_means}\")\n",
    "\n",
    "# Fancy vesion - by setting axis = 0 I'm telling numpy to calculate the mu over the first axis (rows)\n",
    "my_means_simple = np.mean(my_new_matrix_from_zeros, axis=0)\n",
    "print(f\"My means v2: {my_means_simple}\")"
   ]
  },
  {
   "cell_type": "markdown",
   "metadata": {},
   "source": [
    "## Boolean indexing on arrays"
   ]
  },
  {
   "cell_type": "code",
   "execution_count": null,
   "metadata": {},
   "outputs": [],
   "source": [
    "#  In the padded matrix set all of the values that are bigger than 1 to be -1\n",
    "#   Check: The max should now be 1\n",
    "my_clipped_matrix = my_new_padded_matrix_from_zeros\n",
    "# my_clipped_matrix returns an array of booleans of the same size as my_clipped_matrix\n",
    "#   the = tells python to do a for loop over all values in my_clipped_matrix, and wherever that boolean array\n",
    "#   is true, do the assigment to -1\n",
    "my_clipped_matrix[my_clipped_matrix > 1] = -1\n",
    "print(f\"Max value in clipped matrix: {np.max(my_clipped_matrix)}\")\n",
    "\n",
    "# Now count how many values in the clipped matrix are -1\n",
    "#  Can use np.sum OR np.count_nonzero - the latter is somewhat faster\n",
    "#    Again, my_clipped_matrix == -1 returns an array that is True whenever the value is exactly -1\n",
    "#    True == 1, False == 0, which is why sum works\n",
    "count_minus_1 = np.sum(my_clipped_matrix == -1)\n",
    "#  But this is better - directly looks for True/False\n",
    "count_minus_1_v2 = np.count_nonzero(my_clipped_matrix == -1)\n",
    "\n",
    "print(f\"Count: {count_minus_1}, should be 13 if linspace array size 10, 23 if linspace array size is 20\")"
   ]
  },
  {
   "cell_type": "code",
   "execution_count": null,
   "metadata": {},
   "outputs": [],
   "source": [
    "# Doing this in pieces so you can see how it works - all of the b_* variables are matrices that are of the\n",
    "#   same size as my_clipped_matrix, with True/False set\n",
    "# & is bit-wise and - same as and, but works on Boolean variables\n",
    "b_array_1 = my_clipped_matrix > 0.1\n",
    "b_array_2 = my_clipped_matrix < 0.5\n",
    "b_combined_array = b_array_1 & b_array_2\n",
    "# This, again, just counts the number of True values\n",
    "count_between_v1 = np.count_nonzero(b_combined_array)\n",
    "# Notice parenthesis to make sure it does the two comparisons before the &\n",
    "#  - if you don't have those in there it tries to do the & first\n",
    "count_between_v2 = np.count_nonzero((my_clipped_matrix > 0.1) & (my_clipped_matrix < 0.5))\n",
    "print(f\"Count between: {count_between_v1}, should be 4 if linspace array size 10, 8 if linspace array size is 20\")"
   ]
  }
 ],
 "metadata": {
  "kernelspec": {
   "display_name": "Python 3",
   "language": "python",
   "name": "python3"
  },
  "language_info": {
   "codemirror_mode": {
    "name": "ipython",
    "version": 3
   },
   "file_extension": ".py",
   "mimetype": "text/x-python",
   "name": "python",
   "nbconvert_exporter": "python",
   "pygments_lexer": "ipython3",
   "version": "3.10.11"
  }
 },
 "nbformat": 4,
 "nbformat_minor": 2
}
